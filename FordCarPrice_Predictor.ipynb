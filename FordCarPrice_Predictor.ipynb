{
 "cells": [
  {
   "cell_type": "code",
   "execution_count": 38,
   "metadata": {},
   "outputs": [],
   "source": [
    "import pandas as pd\n",
    "import seaborn as sns\n",
    "import numpy as np\n",
    "import matplotlib.pyplot as plt\n",
    "%matplotlib inline"
   ]
  },
  {
   "cell_type": "code",
   "execution_count": 39,
   "metadata": {},
   "outputs": [
    {
     "data": {
      "text/html": [
       "<div>\n",
       "<style scoped>\n",
       "    .dataframe tbody tr th:only-of-type {\n",
       "        vertical-align: middle;\n",
       "    }\n",
       "\n",
       "    .dataframe tbody tr th {\n",
       "        vertical-align: top;\n",
       "    }\n",
       "\n",
       "    .dataframe thead th {\n",
       "        text-align: right;\n",
       "    }\n",
       "</style>\n",
       "<table border=\"1\" class=\"dataframe\">\n",
       "  <thead>\n",
       "    <tr style=\"text-align: right;\">\n",
       "      <th></th>\n",
       "      <th>model</th>\n",
       "      <th>year</th>\n",
       "      <th>price</th>\n",
       "      <th>transmission</th>\n",
       "      <th>mileage</th>\n",
       "      <th>fuelType</th>\n",
       "      <th>tax</th>\n",
       "      <th>mpg</th>\n",
       "      <th>engineSize</th>\n",
       "    </tr>\n",
       "  </thead>\n",
       "  <tbody>\n",
       "    <tr>\n",
       "      <th>0</th>\n",
       "      <td>Fiesta</td>\n",
       "      <td>2017</td>\n",
       "      <td>12000</td>\n",
       "      <td>Automatic</td>\n",
       "      <td>15944</td>\n",
       "      <td>Petrol</td>\n",
       "      <td>150</td>\n",
       "      <td>57.7</td>\n",
       "      <td>1.0</td>\n",
       "    </tr>\n",
       "    <tr>\n",
       "      <th>1</th>\n",
       "      <td>Focus</td>\n",
       "      <td>2018</td>\n",
       "      <td>14000</td>\n",
       "      <td>Manual</td>\n",
       "      <td>9083</td>\n",
       "      <td>Petrol</td>\n",
       "      <td>150</td>\n",
       "      <td>57.7</td>\n",
       "      <td>1.0</td>\n",
       "    </tr>\n",
       "    <tr>\n",
       "      <th>2</th>\n",
       "      <td>Focus</td>\n",
       "      <td>2017</td>\n",
       "      <td>13000</td>\n",
       "      <td>Manual</td>\n",
       "      <td>12456</td>\n",
       "      <td>Petrol</td>\n",
       "      <td>150</td>\n",
       "      <td>57.7</td>\n",
       "      <td>1.0</td>\n",
       "    </tr>\n",
       "    <tr>\n",
       "      <th>3</th>\n",
       "      <td>Fiesta</td>\n",
       "      <td>2019</td>\n",
       "      <td>17500</td>\n",
       "      <td>Manual</td>\n",
       "      <td>10460</td>\n",
       "      <td>Petrol</td>\n",
       "      <td>145</td>\n",
       "      <td>40.3</td>\n",
       "      <td>1.5</td>\n",
       "    </tr>\n",
       "    <tr>\n",
       "      <th>4</th>\n",
       "      <td>Fiesta</td>\n",
       "      <td>2019</td>\n",
       "      <td>16500</td>\n",
       "      <td>Automatic</td>\n",
       "      <td>1482</td>\n",
       "      <td>Petrol</td>\n",
       "      <td>145</td>\n",
       "      <td>48.7</td>\n",
       "      <td>1.0</td>\n",
       "    </tr>\n",
       "  </tbody>\n",
       "</table>\n",
       "</div>"
      ],
      "text/plain": [
       "     model  year  price transmission  mileage fuelType  tax   mpg  engineSize\n",
       "0   Fiesta  2017  12000    Automatic    15944   Petrol  150  57.7         1.0\n",
       "1    Focus  2018  14000       Manual     9083   Petrol  150  57.7         1.0\n",
       "2    Focus  2017  13000       Manual    12456   Petrol  150  57.7         1.0\n",
       "3   Fiesta  2019  17500       Manual    10460   Petrol  145  40.3         1.5\n",
       "4   Fiesta  2019  16500    Automatic     1482   Petrol  145  48.7         1.0"
      ]
     },
     "execution_count": 39,
     "metadata": {},
     "output_type": "execute_result"
    }
   ],
   "source": [
    "df = pd.read_csv('ford.csv')\n",
    "df.head()"
   ]
  },
  {
   "cell_type": "code",
   "execution_count": 40,
   "metadata": {},
   "outputs": [
    {
     "data": {
      "text/plain": [
       "(17966, 9)"
      ]
     },
     "execution_count": 40,
     "metadata": {},
     "output_type": "execute_result"
    }
   ],
   "source": [
    "df.shape"
   ]
  },
  {
   "cell_type": "code",
   "execution_count": 41,
   "metadata": {},
   "outputs": [
    {
     "name": "stdout",
     "output_type": "stream",
     "text": [
      "model : [' Fiesta' ' Focus' ' Puma' ' Kuga' ' EcoSport' ' C-MAX' ' Mondeo' ' Ka+'\n",
      " ' Tourneo Custom' ' S-MAX' ' B-MAX' ' Edge' ' Tourneo Connect'\n",
      " ' Grand C-MAX' ' KA' ' Galaxy' ' Mustang' ' Grand Tourneo Connect'\n",
      " ' Fusion' ' Ranger' ' Streetka' ' Escort' ' Transit Tourneo' 'Focus']\n",
      "Number of unique values of model column = 24\n",
      "\n",
      "transmission : ['Automatic' 'Manual' 'Semi-Auto']\n",
      "Number of unique values of transmission column = 3\n",
      "\n",
      "fuelType : ['Petrol' 'Diesel' 'Hybrid' 'Electric' 'Other']\n",
      "Number of unique values of fuelType column = 5\n",
      "\n"
     ]
    }
   ],
   "source": [
    "categorical_columns = df.select_dtypes(exclude='number').columns\n",
    "\n",
    "for column in categorical_columns:\n",
    "    print(column, ':', df[column].unique())\n",
    "    print('Number of unique values of', column, 'column =', df[column].nunique())\n",
    "    print()"
   ]
  },
  {
   "cell_type": "code",
   "execution_count": 42,
   "metadata": {},
   "outputs": [
    {
     "data": {
      "text/plain": [
       "model\n",
       " Fiesta                   6557\n",
       " Focus                    4588\n",
       " Kuga                     2225\n",
       " EcoSport                 1143\n",
       " C-MAX                     543\n",
       " Ka+                       531\n",
       " Mondeo                    526\n",
       " B-MAX                     355\n",
       " S-MAX                     296\n",
       " Grand C-MAX               247\n",
       " Galaxy                    228\n",
       " Edge                      208\n",
       " KA                        199\n",
       " Puma                       80\n",
       " Tourneo Custom             69\n",
       " Grand Tourneo Connect      59\n",
       " Mustang                    57\n",
       " Tourneo Connect            33\n",
       " Fusion                     16\n",
       " Streetka                    2\n",
       " Ranger                      1\n",
       " Escort                      1\n",
       " Transit Tourneo             1\n",
       "Focus                        1\n",
       "Name: count, dtype: int64"
      ]
     },
     "execution_count": 42,
     "metadata": {},
     "output_type": "execute_result"
    }
   ],
   "source": [
    "df['model'].value_counts()"
   ]
  },
  {
   "cell_type": "code",
   "execution_count": 43,
   "metadata": {},
   "outputs": [
    {
     "data": {
      "text/plain": [
       "transmission\n",
       "Manual       15518\n",
       "Automatic     1361\n",
       "Semi-Auto     1087\n",
       "Name: count, dtype: int64"
      ]
     },
     "execution_count": 43,
     "metadata": {},
     "output_type": "execute_result"
    }
   ],
   "source": [
    "df['transmission'].value_counts()"
   ]
  },
  {
   "cell_type": "code",
   "execution_count": 44,
   "metadata": {},
   "outputs": [
    {
     "data": {
      "text/plain": [
       "fuelType\n",
       "Petrol      12179\n",
       "Diesel       5762\n",
       "Hybrid         22\n",
       "Electric        2\n",
       "Other           1\n",
       "Name: count, dtype: int64"
      ]
     },
     "execution_count": 44,
     "metadata": {},
     "output_type": "execute_result"
    }
   ],
   "source": [
    "df['fuelType'].value_counts()"
   ]
  },
  {
   "cell_type": "code",
   "execution_count": 45,
   "metadata": {},
   "outputs": [
    {
     "data": {
      "text/html": [
       "<div>\n",
       "<style scoped>\n",
       "    .dataframe tbody tr th:only-of-type {\n",
       "        vertical-align: middle;\n",
       "    }\n",
       "\n",
       "    .dataframe tbody tr th {\n",
       "        vertical-align: top;\n",
       "    }\n",
       "\n",
       "    .dataframe thead th {\n",
       "        text-align: right;\n",
       "    }\n",
       "</style>\n",
       "<table border=\"1\" class=\"dataframe\">\n",
       "  <thead>\n",
       "    <tr style=\"text-align: right;\">\n",
       "      <th></th>\n",
       "      <th>model</th>\n",
       "      <th>year</th>\n",
       "      <th>price</th>\n",
       "      <th>transmission</th>\n",
       "      <th>mileage</th>\n",
       "      <th>fuelType</th>\n",
       "      <th>tax</th>\n",
       "      <th>mpg</th>\n",
       "      <th>engineSize</th>\n",
       "    </tr>\n",
       "  </thead>\n",
       "  <tbody>\n",
       "    <tr>\n",
       "      <th>17492</th>\n",
       "      <td>Mondeo</td>\n",
       "      <td>2015</td>\n",
       "      <td>13800</td>\n",
       "      <td>Automatic</td>\n",
       "      <td>19470</td>\n",
       "      <td>Other</td>\n",
       "      <td>0</td>\n",
       "      <td>67.3</td>\n",
       "      <td>2.0</td>\n",
       "    </tr>\n",
       "  </tbody>\n",
       "</table>\n",
       "</div>"
      ],
      "text/plain": [
       "         model  year  price transmission  mileage fuelType  tax   mpg  \\\n",
       "17492   Mondeo  2015  13800    Automatic    19470    Other    0  67.3   \n",
       "\n",
       "       engineSize  \n",
       "17492         2.0  "
      ]
     },
     "execution_count": 45,
     "metadata": {},
     "output_type": "execute_result"
    }
   ],
   "source": [
    "df[df['fuelType'] == 'Other']"
   ]
  },
  {
   "cell_type": "code",
   "execution_count": 46,
   "metadata": {},
   "outputs": [
    {
     "data": {
      "text/html": [
       "<div>\n",
       "<style scoped>\n",
       "    .dataframe tbody tr th:only-of-type {\n",
       "        vertical-align: middle;\n",
       "    }\n",
       "\n",
       "    .dataframe tbody tr th {\n",
       "        vertical-align: top;\n",
       "    }\n",
       "\n",
       "    .dataframe thead th {\n",
       "        text-align: right;\n",
       "    }\n",
       "</style>\n",
       "<table border=\"1\" class=\"dataframe\">\n",
       "  <thead>\n",
       "    <tr style=\"text-align: right;\">\n",
       "      <th></th>\n",
       "      <th>model</th>\n",
       "      <th>year</th>\n",
       "      <th>price</th>\n",
       "      <th>transmission</th>\n",
       "      <th>mileage</th>\n",
       "      <th>fuelType</th>\n",
       "      <th>tax</th>\n",
       "      <th>mpg</th>\n",
       "      <th>engineSize</th>\n",
       "    </tr>\n",
       "  </thead>\n",
       "  <tbody>\n",
       "    <tr>\n",
       "      <th>35</th>\n",
       "      <td>Mondeo</td>\n",
       "      <td>2019</td>\n",
       "      <td>20000</td>\n",
       "      <td>Manual</td>\n",
       "      <td>24</td>\n",
       "      <td>Diesel</td>\n",
       "      <td>145</td>\n",
       "      <td>65.7</td>\n",
       "      <td>2.0</td>\n",
       "    </tr>\n",
       "    <tr>\n",
       "      <th>138</th>\n",
       "      <td>Mondeo</td>\n",
       "      <td>2015</td>\n",
       "      <td>9995</td>\n",
       "      <td>Manual</td>\n",
       "      <td>30753</td>\n",
       "      <td>Diesel</td>\n",
       "      <td>0</td>\n",
       "      <td>78.5</td>\n",
       "      <td>1.5</td>\n",
       "    </tr>\n",
       "    <tr>\n",
       "      <th>167</th>\n",
       "      <td>Mondeo</td>\n",
       "      <td>2016</td>\n",
       "      <td>9998</td>\n",
       "      <td>Manual</td>\n",
       "      <td>38358</td>\n",
       "      <td>Diesel</td>\n",
       "      <td>0</td>\n",
       "      <td>78.5</td>\n",
       "      <td>1.5</td>\n",
       "    </tr>\n",
       "    <tr>\n",
       "      <th>318</th>\n",
       "      <td>Mondeo</td>\n",
       "      <td>2017</td>\n",
       "      <td>17498</td>\n",
       "      <td>Semi-Auto</td>\n",
       "      <td>14569</td>\n",
       "      <td>Diesel</td>\n",
       "      <td>145</td>\n",
       "      <td>53.3</td>\n",
       "      <td>2.0</td>\n",
       "    </tr>\n",
       "    <tr>\n",
       "      <th>322</th>\n",
       "      <td>Mondeo</td>\n",
       "      <td>2019</td>\n",
       "      <td>22998</td>\n",
       "      <td>Automatic</td>\n",
       "      <td>7337</td>\n",
       "      <td>Hybrid</td>\n",
       "      <td>140</td>\n",
       "      <td>47.1</td>\n",
       "      <td>2.0</td>\n",
       "    </tr>\n",
       "    <tr>\n",
       "      <th>...</th>\n",
       "      <td>...</td>\n",
       "      <td>...</td>\n",
       "      <td>...</td>\n",
       "      <td>...</td>\n",
       "      <td>...</td>\n",
       "      <td>...</td>\n",
       "      <td>...</td>\n",
       "      <td>...</td>\n",
       "      <td>...</td>\n",
       "    </tr>\n",
       "    <tr>\n",
       "      <th>17711</th>\n",
       "      <td>Mondeo</td>\n",
       "      <td>2018</td>\n",
       "      <td>17999</td>\n",
       "      <td>Automatic</td>\n",
       "      <td>3570</td>\n",
       "      <td>Petrol</td>\n",
       "      <td>145</td>\n",
       "      <td>44.1</td>\n",
       "      <td>1.5</td>\n",
       "    </tr>\n",
       "    <tr>\n",
       "      <th>17751</th>\n",
       "      <td>Mondeo</td>\n",
       "      <td>2011</td>\n",
       "      <td>5495</td>\n",
       "      <td>Manual</td>\n",
       "      <td>104000</td>\n",
       "      <td>Diesel</td>\n",
       "      <td>200</td>\n",
       "      <td>47.1</td>\n",
       "      <td>2.2</td>\n",
       "    </tr>\n",
       "    <tr>\n",
       "      <th>17776</th>\n",
       "      <td>Mondeo</td>\n",
       "      <td>2016</td>\n",
       "      <td>10500</td>\n",
       "      <td>Manual</td>\n",
       "      <td>54004</td>\n",
       "      <td>Diesel</td>\n",
       "      <td>30</td>\n",
       "      <td>64.2</td>\n",
       "      <td>2.0</td>\n",
       "    </tr>\n",
       "    <tr>\n",
       "      <th>17823</th>\n",
       "      <td>Mondeo</td>\n",
       "      <td>2017</td>\n",
       "      <td>15499</td>\n",
       "      <td>Automatic</td>\n",
       "      <td>10162</td>\n",
       "      <td>Petrol</td>\n",
       "      <td>235</td>\n",
       "      <td>38.2</td>\n",
       "      <td>5.0</td>\n",
       "    </tr>\n",
       "    <tr>\n",
       "      <th>17832</th>\n",
       "      <td>Mondeo</td>\n",
       "      <td>2019</td>\n",
       "      <td>20999</td>\n",
       "      <td>Automatic</td>\n",
       "      <td>3621</td>\n",
       "      <td>Petrol</td>\n",
       "      <td>135</td>\n",
       "      <td>47.1</td>\n",
       "      <td>2.0</td>\n",
       "    </tr>\n",
       "  </tbody>\n",
       "</table>\n",
       "<p>526 rows × 9 columns</p>\n",
       "</div>"
      ],
      "text/plain": [
       "         model  year  price transmission  mileage fuelType  tax   mpg  \\\n",
       "35      Mondeo  2019  20000       Manual       24   Diesel  145  65.7   \n",
       "138     Mondeo  2015   9995       Manual    30753   Diesel    0  78.5   \n",
       "167     Mondeo  2016   9998       Manual    38358   Diesel    0  78.5   \n",
       "318     Mondeo  2017  17498    Semi-Auto    14569   Diesel  145  53.3   \n",
       "322     Mondeo  2019  22998    Automatic     7337   Hybrid  140  47.1   \n",
       "...        ...   ...    ...          ...      ...      ...  ...   ...   \n",
       "17711   Mondeo  2018  17999    Automatic     3570   Petrol  145  44.1   \n",
       "17751   Mondeo  2011   5495       Manual   104000   Diesel  200  47.1   \n",
       "17776   Mondeo  2016  10500       Manual    54004   Diesel   30  64.2   \n",
       "17823   Mondeo  2017  15499    Automatic    10162   Petrol  235  38.2   \n",
       "17832   Mondeo  2019  20999    Automatic     3621   Petrol  135  47.1   \n",
       "\n",
       "       engineSize  \n",
       "35            2.0  \n",
       "138           1.5  \n",
       "167           1.5  \n",
       "318           2.0  \n",
       "322           2.0  \n",
       "...           ...  \n",
       "17711         1.5  \n",
       "17751         2.2  \n",
       "17776         2.0  \n",
       "17823         5.0  \n",
       "17832         2.0  \n",
       "\n",
       "[526 rows x 9 columns]"
      ]
     },
     "execution_count": 46,
     "metadata": {},
     "output_type": "execute_result"
    }
   ],
   "source": [
    "df[df['model'] == ' Mondeo']"
   ]
  },
  {
   "cell_type": "code",
   "execution_count": 47,
   "metadata": {},
   "outputs": [],
   "source": [
    "for column in categorical_columns:\n",
    "    df[column] = df[column].str.strip()"
   ]
  },
  {
   "cell_type": "code",
   "execution_count": 48,
   "metadata": {},
   "outputs": [
    {
     "data": {
      "text/plain": [
       "fuelType\n",
       "Diesel      60\n",
       "Electric     2\n",
       "Hybrid      16\n",
       "Other        1\n",
       "Petrol      42\n",
       "dtype: int64"
      ]
     },
     "execution_count": 48,
     "metadata": {},
     "output_type": "execute_result"
    }
   ],
   "source": [
    "df[(df['model'] == 'Mondeo') & (df['transmission'] == 'Automatic')].groupby('fuelType').size()"
   ]
  },
  {
   "cell_type": "code",
   "execution_count": 49,
   "metadata": {},
   "outputs": [
    {
     "data": {
      "text/html": [
       "<div>\n",
       "<style scoped>\n",
       "    .dataframe tbody tr th:only-of-type {\n",
       "        vertical-align: middle;\n",
       "    }\n",
       "\n",
       "    .dataframe tbody tr th {\n",
       "        vertical-align: top;\n",
       "    }\n",
       "\n",
       "    .dataframe thead th {\n",
       "        text-align: right;\n",
       "    }\n",
       "</style>\n",
       "<table border=\"1\" class=\"dataframe\">\n",
       "  <thead>\n",
       "    <tr style=\"text-align: right;\">\n",
       "      <th></th>\n",
       "      <th>model</th>\n",
       "      <th>year</th>\n",
       "      <th>price</th>\n",
       "      <th>transmission</th>\n",
       "      <th>mileage</th>\n",
       "      <th>fuelType</th>\n",
       "      <th>tax</th>\n",
       "      <th>mpg</th>\n",
       "      <th>engineSize</th>\n",
       "    </tr>\n",
       "  </thead>\n",
       "  <tbody>\n",
       "    <tr>\n",
       "      <th>322</th>\n",
       "      <td>Mondeo</td>\n",
       "      <td>2019</td>\n",
       "      <td>22998</td>\n",
       "      <td>Automatic</td>\n",
       "      <td>7337</td>\n",
       "      <td>Hybrid</td>\n",
       "      <td>140</td>\n",
       "      <td>47.1</td>\n",
       "      <td>2.0</td>\n",
       "    </tr>\n",
       "    <tr>\n",
       "      <th>3925</th>\n",
       "      <td>Mondeo</td>\n",
       "      <td>2017</td>\n",
       "      <td>18290</td>\n",
       "      <td>Automatic</td>\n",
       "      <td>9641</td>\n",
       "      <td>Hybrid</td>\n",
       "      <td>145</td>\n",
       "      <td>56.5</td>\n",
       "      <td>2.0</td>\n",
       "    </tr>\n",
       "    <tr>\n",
       "      <th>4410</th>\n",
       "      <td>Mondeo</td>\n",
       "      <td>2017</td>\n",
       "      <td>17080</td>\n",
       "      <td>Automatic</td>\n",
       "      <td>27498</td>\n",
       "      <td>Hybrid</td>\n",
       "      <td>145</td>\n",
       "      <td>56.5</td>\n",
       "      <td>2.0</td>\n",
       "    </tr>\n",
       "    <tr>\n",
       "      <th>4807</th>\n",
       "      <td>Mondeo</td>\n",
       "      <td>2016</td>\n",
       "      <td>12995</td>\n",
       "      <td>Automatic</td>\n",
       "      <td>42165</td>\n",
       "      <td>Hybrid</td>\n",
       "      <td>0</td>\n",
       "      <td>67.3</td>\n",
       "      <td>2.0</td>\n",
       "    </tr>\n",
       "    <tr>\n",
       "      <th>5790</th>\n",
       "      <td>Mondeo</td>\n",
       "      <td>2019</td>\n",
       "      <td>22500</td>\n",
       "      <td>Automatic</td>\n",
       "      <td>7058</td>\n",
       "      <td>Hybrid</td>\n",
       "      <td>140</td>\n",
       "      <td>47.1</td>\n",
       "      <td>2.0</td>\n",
       "    </tr>\n",
       "    <tr>\n",
       "      <th>10536</th>\n",
       "      <td>Mondeo</td>\n",
       "      <td>2020</td>\n",
       "      <td>24979</td>\n",
       "      <td>Automatic</td>\n",
       "      <td>2213</td>\n",
       "      <td>Hybrid</td>\n",
       "      <td>135</td>\n",
       "      <td>47.9</td>\n",
       "      <td>2.0</td>\n",
       "    </tr>\n",
       "    <tr>\n",
       "      <th>10991</th>\n",
       "      <td>Mondeo</td>\n",
       "      <td>2019</td>\n",
       "      <td>22899</td>\n",
       "      <td>Automatic</td>\n",
       "      <td>4665</td>\n",
       "      <td>Hybrid</td>\n",
       "      <td>135</td>\n",
       "      <td>47.1</td>\n",
       "      <td>2.0</td>\n",
       "    </tr>\n",
       "    <tr>\n",
       "      <th>11104</th>\n",
       "      <td>Mondeo</td>\n",
       "      <td>2019</td>\n",
       "      <td>25890</td>\n",
       "      <td>Automatic</td>\n",
       "      <td>4200</td>\n",
       "      <td>Hybrid</td>\n",
       "      <td>135</td>\n",
       "      <td>46.3</td>\n",
       "      <td>2.0</td>\n",
       "    </tr>\n",
       "    <tr>\n",
       "      <th>12574</th>\n",
       "      <td>Mondeo</td>\n",
       "      <td>2016</td>\n",
       "      <td>12990</td>\n",
       "      <td>Automatic</td>\n",
       "      <td>42500</td>\n",
       "      <td>Hybrid</td>\n",
       "      <td>0</td>\n",
       "      <td>67.3</td>\n",
       "      <td>2.0</td>\n",
       "    </tr>\n",
       "    <tr>\n",
       "      <th>13177</th>\n",
       "      <td>Mondeo</td>\n",
       "      <td>2019</td>\n",
       "      <td>25400</td>\n",
       "      <td>Automatic</td>\n",
       "      <td>12145</td>\n",
       "      <td>Hybrid</td>\n",
       "      <td>135</td>\n",
       "      <td>47.9</td>\n",
       "      <td>2.0</td>\n",
       "    </tr>\n",
       "    <tr>\n",
       "      <th>13824</th>\n",
       "      <td>Mondeo</td>\n",
       "      <td>2020</td>\n",
       "      <td>26290</td>\n",
       "      <td>Automatic</td>\n",
       "      <td>7</td>\n",
       "      <td>Hybrid</td>\n",
       "      <td>135</td>\n",
       "      <td>47.1</td>\n",
       "      <td>2.0</td>\n",
       "    </tr>\n",
       "    <tr>\n",
       "      <th>14696</th>\n",
       "      <td>Mondeo</td>\n",
       "      <td>2015</td>\n",
       "      <td>11999</td>\n",
       "      <td>Automatic</td>\n",
       "      <td>55686</td>\n",
       "      <td>Hybrid</td>\n",
       "      <td>0</td>\n",
       "      <td>67.3</td>\n",
       "      <td>2.0</td>\n",
       "    </tr>\n",
       "    <tr>\n",
       "      <th>14899</th>\n",
       "      <td>Mondeo</td>\n",
       "      <td>2015</td>\n",
       "      <td>9795</td>\n",
       "      <td>Automatic</td>\n",
       "      <td>102940</td>\n",
       "      <td>Hybrid</td>\n",
       "      <td>0</td>\n",
       "      <td>67.3</td>\n",
       "      <td>2.0</td>\n",
       "    </tr>\n",
       "    <tr>\n",
       "      <th>16113</th>\n",
       "      <td>Mondeo</td>\n",
       "      <td>2019</td>\n",
       "      <td>24995</td>\n",
       "      <td>Automatic</td>\n",
       "      <td>2567</td>\n",
       "      <td>Hybrid</td>\n",
       "      <td>135</td>\n",
       "      <td>46.3</td>\n",
       "      <td>2.0</td>\n",
       "    </tr>\n",
       "    <tr>\n",
       "      <th>17008</th>\n",
       "      <td>Mondeo</td>\n",
       "      <td>2016</td>\n",
       "      <td>10295</td>\n",
       "      <td>Automatic</td>\n",
       "      <td>102370</td>\n",
       "      <td>Hybrid</td>\n",
       "      <td>0</td>\n",
       "      <td>67.3</td>\n",
       "      <td>2.0</td>\n",
       "    </tr>\n",
       "    <tr>\n",
       "      <th>17537</th>\n",
       "      <td>Mondeo</td>\n",
       "      <td>2017</td>\n",
       "      <td>12400</td>\n",
       "      <td>Automatic</td>\n",
       "      <td>63330</td>\n",
       "      <td>Hybrid</td>\n",
       "      <td>0</td>\n",
       "      <td>67.3</td>\n",
       "      <td>2.0</td>\n",
       "    </tr>\n",
       "  </tbody>\n",
       "</table>\n",
       "</div>"
      ],
      "text/plain": [
       "        model  year  price transmission  mileage fuelType  tax   mpg  \\\n",
       "322    Mondeo  2019  22998    Automatic     7337   Hybrid  140  47.1   \n",
       "3925   Mondeo  2017  18290    Automatic     9641   Hybrid  145  56.5   \n",
       "4410   Mondeo  2017  17080    Automatic    27498   Hybrid  145  56.5   \n",
       "4807   Mondeo  2016  12995    Automatic    42165   Hybrid    0  67.3   \n",
       "5790   Mondeo  2019  22500    Automatic     7058   Hybrid  140  47.1   \n",
       "10536  Mondeo  2020  24979    Automatic     2213   Hybrid  135  47.9   \n",
       "10991  Mondeo  2019  22899    Automatic     4665   Hybrid  135  47.1   \n",
       "11104  Mondeo  2019  25890    Automatic     4200   Hybrid  135  46.3   \n",
       "12574  Mondeo  2016  12990    Automatic    42500   Hybrid    0  67.3   \n",
       "13177  Mondeo  2019  25400    Automatic    12145   Hybrid  135  47.9   \n",
       "13824  Mondeo  2020  26290    Automatic        7   Hybrid  135  47.1   \n",
       "14696  Mondeo  2015  11999    Automatic    55686   Hybrid    0  67.3   \n",
       "14899  Mondeo  2015   9795    Automatic   102940   Hybrid    0  67.3   \n",
       "16113  Mondeo  2019  24995    Automatic     2567   Hybrid  135  46.3   \n",
       "17008  Mondeo  2016  10295    Automatic   102370   Hybrid    0  67.3   \n",
       "17537  Mondeo  2017  12400    Automatic    63330   Hybrid    0  67.3   \n",
       "\n",
       "       engineSize  \n",
       "322           2.0  \n",
       "3925          2.0  \n",
       "4410          2.0  \n",
       "4807          2.0  \n",
       "5790          2.0  \n",
       "10536         2.0  \n",
       "10991         2.0  \n",
       "11104         2.0  \n",
       "12574         2.0  \n",
       "13177         2.0  \n",
       "13824         2.0  \n",
       "14696         2.0  \n",
       "14899         2.0  \n",
       "16113         2.0  \n",
       "17008         2.0  \n",
       "17537         2.0  "
      ]
     },
     "execution_count": 49,
     "metadata": {},
     "output_type": "execute_result"
    }
   ],
   "source": [
    "df[(df['model'] == 'Mondeo') & (df['transmission'] == 'Automatic') & (df['fuelType'] == 'Hybrid')]"
   ]
  },
  {
   "cell_type": "code",
   "execution_count": 50,
   "metadata": {},
   "outputs": [],
   "source": [
    "df['fuelType'] = df['fuelType'].replace('Other', 'Hybrid')"
   ]
  },
  {
   "cell_type": "code",
   "execution_count": 51,
   "metadata": {},
   "outputs": [
    {
     "data": {
      "text/plain": [
       "fuelType\n",
       "Diesel      60\n",
       "Electric     2\n",
       "Hybrid      17\n",
       "Petrol      42\n",
       "dtype: int64"
      ]
     },
     "execution_count": 51,
     "metadata": {},
     "output_type": "execute_result"
    }
   ],
   "source": [
    "df[(df['model'] == 'Mondeo') & (df['transmission'] == 'Automatic')].groupby('fuelType').size()"
   ]
  },
  {
   "cell_type": "code",
   "execution_count": 52,
   "metadata": {},
   "outputs": [
    {
     "data": {
      "text/plain": [
       "fuelType\n",
       "Petrol      12179\n",
       "Diesel       5762\n",
       "Hybrid         23\n",
       "Electric        2\n",
       "Name: count, dtype: int64"
      ]
     },
     "execution_count": 52,
     "metadata": {},
     "output_type": "execute_result"
    }
   ],
   "source": [
    "df['fuelType'].value_counts()"
   ]
  },
  {
   "cell_type": "code",
   "execution_count": 53,
   "metadata": {},
   "outputs": [
    {
     "data": {
      "text/plain": [
       "year          0\n",
       "price         0\n",
       "mileage       0\n",
       "tax           0\n",
       "mpg           0\n",
       "engineSize    0\n",
       "dtype: int64"
      ]
     },
     "execution_count": 53,
     "metadata": {},
     "output_type": "execute_result"
    }
   ],
   "source": [
    "numerical_columns = df.select_dtypes(include='number').columns\n",
    "df[numerical_columns].map(np.isinf).sum()"
   ]
  },
  {
   "cell_type": "code",
   "execution_count": 54,
   "metadata": {},
   "outputs": [
    {
     "data": {
      "text/plain": [
       "model           0\n",
       "year            0\n",
       "price           0\n",
       "transmission    0\n",
       "mileage         0\n",
       "fuelType        0\n",
       "tax             0\n",
       "mpg             0\n",
       "engineSize      0\n",
       "dtype: int64"
      ]
     },
     "execution_count": 54,
     "metadata": {},
     "output_type": "execute_result"
    }
   ],
   "source": [
    "df.isnull().sum()"
   ]
  },
  {
   "cell_type": "code",
   "execution_count": 55,
   "metadata": {},
   "outputs": [
    {
     "data": {
      "text/plain": [
       "model            object\n",
       "year              int64\n",
       "price             int64\n",
       "transmission     object\n",
       "mileage           int64\n",
       "fuelType         object\n",
       "tax               int64\n",
       "mpg             float64\n",
       "engineSize      float64\n",
       "dtype: object"
      ]
     },
     "execution_count": 55,
     "metadata": {},
     "output_type": "execute_result"
    }
   ],
   "source": [
    "df.dtypes"
   ]
  },
  {
   "cell_type": "code",
   "execution_count": 56,
   "metadata": {},
   "outputs": [
    {
     "data": {
      "text/html": [
       "<div>\n",
       "<style scoped>\n",
       "    .dataframe tbody tr th:only-of-type {\n",
       "        vertical-align: middle;\n",
       "    }\n",
       "\n",
       "    .dataframe tbody tr th {\n",
       "        vertical-align: top;\n",
       "    }\n",
       "\n",
       "    .dataframe thead th {\n",
       "        text-align: right;\n",
       "    }\n",
       "</style>\n",
       "<table border=\"1\" class=\"dataframe\">\n",
       "  <thead>\n",
       "    <tr style=\"text-align: right;\">\n",
       "      <th></th>\n",
       "      <th>model</th>\n",
       "      <th>year</th>\n",
       "      <th>transmission</th>\n",
       "      <th>mileage</th>\n",
       "      <th>fuelType</th>\n",
       "      <th>tax</th>\n",
       "      <th>mpg</th>\n",
       "      <th>engineSize</th>\n",
       "      <th>price</th>\n",
       "    </tr>\n",
       "  </thead>\n",
       "  <tbody>\n",
       "    <tr>\n",
       "      <th>0</th>\n",
       "      <td>Fiesta</td>\n",
       "      <td>2017</td>\n",
       "      <td>Automatic</td>\n",
       "      <td>15944</td>\n",
       "      <td>Petrol</td>\n",
       "      <td>150</td>\n",
       "      <td>57.7</td>\n",
       "      <td>1.0</td>\n",
       "      <td>12000</td>\n",
       "    </tr>\n",
       "    <tr>\n",
       "      <th>1</th>\n",
       "      <td>Focus</td>\n",
       "      <td>2018</td>\n",
       "      <td>Manual</td>\n",
       "      <td>9083</td>\n",
       "      <td>Petrol</td>\n",
       "      <td>150</td>\n",
       "      <td>57.7</td>\n",
       "      <td>1.0</td>\n",
       "      <td>14000</td>\n",
       "    </tr>\n",
       "    <tr>\n",
       "      <th>2</th>\n",
       "      <td>Focus</td>\n",
       "      <td>2017</td>\n",
       "      <td>Manual</td>\n",
       "      <td>12456</td>\n",
       "      <td>Petrol</td>\n",
       "      <td>150</td>\n",
       "      <td>57.7</td>\n",
       "      <td>1.0</td>\n",
       "      <td>13000</td>\n",
       "    </tr>\n",
       "    <tr>\n",
       "      <th>3</th>\n",
       "      <td>Fiesta</td>\n",
       "      <td>2019</td>\n",
       "      <td>Manual</td>\n",
       "      <td>10460</td>\n",
       "      <td>Petrol</td>\n",
       "      <td>145</td>\n",
       "      <td>40.3</td>\n",
       "      <td>1.5</td>\n",
       "      <td>17500</td>\n",
       "    </tr>\n",
       "    <tr>\n",
       "      <th>4</th>\n",
       "      <td>Fiesta</td>\n",
       "      <td>2019</td>\n",
       "      <td>Automatic</td>\n",
       "      <td>1482</td>\n",
       "      <td>Petrol</td>\n",
       "      <td>145</td>\n",
       "      <td>48.7</td>\n",
       "      <td>1.0</td>\n",
       "      <td>16500</td>\n",
       "    </tr>\n",
       "  </tbody>\n",
       "</table>\n",
       "</div>"
      ],
      "text/plain": [
       "    model  year transmission  mileage fuelType  tax   mpg  engineSize  price\n",
       "0  Fiesta  2017    Automatic    15944   Petrol  150  57.7         1.0  12000\n",
       "1   Focus  2018       Manual     9083   Petrol  150  57.7         1.0  14000\n",
       "2   Focus  2017       Manual    12456   Petrol  150  57.7         1.0  13000\n",
       "3  Fiesta  2019       Manual    10460   Petrol  145  40.3         1.5  17500\n",
       "4  Fiesta  2019    Automatic     1482   Petrol  145  48.7         1.0  16500"
      ]
     },
     "execution_count": 56,
     "metadata": {},
     "output_type": "execute_result"
    }
   ],
   "source": [
    "df['price'] = df.pop('price')\n",
    "df.head()"
   ]
  },
  {
   "cell_type": "code",
   "execution_count": 57,
   "metadata": {},
   "outputs": [],
   "source": [
    "numerical_columns = df.select_dtypes(include='number').columns\n",
    "\n",
    "n_cols = 3\n",
    "n_rows = int(np.ceil(len(numerical_columns) / n_cols))"
   ]
  },
  {
   "cell_type": "code",
   "execution_count": 58,
   "metadata": {},
   "outputs": [
    {
     "data": {
      "image/png": "[encoded data removed]",
      "text/plain": [
       "<Figure size 1200x800 with 6 Axes>"
      ]
     },
     "metadata": {},
     "output_type": "display_data"
    }
   ],
   "source": [
    "fig, axes = plt.subplots(n_rows, n_cols, figsize=(4 * n_cols, 4 * n_rows))\n",
    "axes = axes.flatten()\n",
    "\n",
    "for index, column in enumerate(numerical_columns):\n",
    "    sns.boxplot(data=df[column], ax=axes[index])\n",
    "    axes[index].set_title(column)\n",
    "    axes[index].set_ylabel('Value')\n",
    "    axes[index].grid(True)\n",
    "    \n",
    "for i in range(len(numerical_columns), len(axes)):\n",
    "    fig.delaxes(axes[i])\n",
    "    \n",
    "plt.tight_layout()\n",
    "plt.show()"
   ]
  },
  {
   "cell_type": "code",
   "execution_count": 59,
   "metadata": {},
   "outputs": [
    {
     "data": {
      "image/png": "[encoded data removed]",
      "text/plain": [
       "<Figure size 1200x800 with 6 Axes>"
      ]
     },
     "metadata": {},
     "output_type": "display_data"
    }
   ],
   "source": [
    "fig, axes = plt.subplots(n_rows, n_cols, figsize=(4 * n_cols, 4 * n_rows))\n",
    "axes = axes.flatten()\n",
    "\n",
    "for index, column in enumerate(numerical_columns):\n",
    "    sns.histplot(data=df[column], ax=axes[index], kde=True)\n",
    "    axes[index].set_ylabel('Frequency')\n",
    "    axes[index].grid(True)\n",
    "    \n",
    "for i in range(len(numerical_columns), len(axes)):\n",
    "    fig.delaxes(axes[index])\n",
    "    \n",
    "plt.tight_layout()\n",
    "plt.show()"
   ]
  },
  {
   "cell_type": "code",
   "execution_count": 60,
   "metadata": {},
   "outputs": [
    {
     "name": "stdout",
     "output_type": "stream",
     "text": [
      "year : -1.2826010773963363\n",
      "mileage : 1.8420676988442957\n",
      "tax : -0.564082137792832\n",
      "mpg : 0.6039230694032055\n",
      "engineSize : 1.8931206703965726\n"
     ]
    }
   ],
   "source": [
    "for column in numerical_columns[:-1]:\n",
    "    print(column, ':', df[column].skew())"
   ]
  },
  {
   "cell_type": "code",
   "execution_count": 61,
   "metadata": {},
   "outputs": [
    {
     "name": "stderr",
     "output_type": "stream",
     "text": [
      "c:\\Python310\\lib\\site-packages\\numpy\\core\\_methods.py:176: RuntimeWarning: overflow encountered in multiply\n",
      "  x = um.multiply(x, x, out=x)\n"
     ]
    }
   ],
   "source": [
    "from sklearn.preprocessing import PowerTransformer\n",
    "pt = PowerTransformer(method='yeo-johnson')\n",
    "df[numerical_columns[:-1]] = pt.fit_transform(df[numerical_columns[:-1]])"
   ]
  },
  {
   "cell_type": "code",
   "execution_count": 62,
   "metadata": {},
   "outputs": [
    {
     "name": "stdout",
     "output_type": "stream",
     "text": [
      "year : 0.6436237325259657\n",
      "mileage : 0.033705986006984275\n",
      "tax : -0.8152847129968465\n",
      "mpg : 0.18421029564163377\n",
      "engineSize : -0.09556510517773774\n"
     ]
    }
   ],
   "source": [
    "for column in numerical_columns[:-1]:\n",
    "    print(column, ':', df[column].skew())"
   ]
  },
  {
   "cell_type": "code",
   "execution_count": 63,
   "metadata": {},
   "outputs": [],
   "source": [
    "from sklearn.preprocessing import RobustScaler\n",
    "robust_scaler = RobustScaler()\n",
    "df[numerical_columns[:-1]] = robust_scaler.fit_transform(df[numerical_columns[:-1]])"
   ]
  },
  {
   "cell_type": "code",
   "execution_count": 64,
   "metadata": {},
   "outputs": [
    {
     "data": {
      "text/html": [
       "<div>\n",
       "<style scoped>\n",
       "    .dataframe tbody tr th:only-of-type {\n",
       "        vertical-align: middle;\n",
       "    }\n",
       "\n",
       "    .dataframe tbody tr th {\n",
       "        vertical-align: top;\n",
       "    }\n",
       "\n",
       "    .dataframe thead th {\n",
       "        text-align: right;\n",
       "    }\n",
       "</style>\n",
       "<table border=\"1\" class=\"dataframe\">\n",
       "  <thead>\n",
       "    <tr style=\"text-align: right;\">\n",
       "      <th></th>\n",
       "      <th>model</th>\n",
       "      <th>year</th>\n",
       "      <th>transmission</th>\n",
       "      <th>mileage</th>\n",
       "      <th>fuelType</th>\n",
       "      <th>tax</th>\n",
       "      <th>mpg</th>\n",
       "      <th>engineSize</th>\n",
       "      <th>price</th>\n",
       "    </tr>\n",
       "  </thead>\n",
       "  <tbody>\n",
       "    <tr>\n",
       "      <th>0</th>\n",
       "      <td>Fiesta</td>\n",
       "      <td>0.000000</td>\n",
       "      <td>Automatic</td>\n",
       "      <td>-0.116442</td>\n",
       "      <td>Petrol</td>\n",
       "      <td>0.039615</td>\n",
       "      <td>-0.089724</td>\n",
       "      <td>-0.442551</td>\n",
       "      <td>12000</td>\n",
       "    </tr>\n",
       "    <tr>\n",
       "      <th>1</th>\n",
       "      <td>Focus</td>\n",
       "      <td>0.504918</td>\n",
       "      <td>Manual</td>\n",
       "      <td>-0.544810</td>\n",
       "      <td>Petrol</td>\n",
       "      <td>0.039615</td>\n",
       "      <td>-0.089724</td>\n",
       "      <td>-0.442551</td>\n",
       "      <td>14000</td>\n",
       "    </tr>\n",
       "    <tr>\n",
       "      <th>2</th>\n",
       "      <td>Focus</td>\n",
       "      <td>0.000000</td>\n",
       "      <td>Manual</td>\n",
       "      <td>-0.315408</td>\n",
       "      <td>Petrol</td>\n",
       "      <td>0.039615</td>\n",
       "      <td>-0.089724</td>\n",
       "      <td>-0.442551</td>\n",
       "      <td>13000</td>\n",
       "    </tr>\n",
       "    <tr>\n",
       "      <th>3</th>\n",
       "      <td>Fiesta</td>\n",
       "      <td>1.019864</td>\n",
       "      <td>Manual</td>\n",
       "      <td>-0.445577</td>\n",
       "      <td>Petrol</td>\n",
       "      <td>0.000000</td>\n",
       "      <td>-1.439277</td>\n",
       "      <td>0.557449</td>\n",
       "      <td>17500</td>\n",
       "    </tr>\n",
       "    <tr>\n",
       "      <th>4</th>\n",
       "      <td>Fiesta</td>\n",
       "      <td>1.019864</td>\n",
       "      <td>Automatic</td>\n",
       "      <td>-1.449320</td>\n",
       "      <td>Petrol</td>\n",
       "      <td>0.000000</td>\n",
       "      <td>-0.775513</td>\n",
       "      <td>-0.442551</td>\n",
       "      <td>16500</td>\n",
       "    </tr>\n",
       "  </tbody>\n",
       "</table>\n",
       "</div>"
      ],
      "text/plain": [
       "    model      year transmission   mileage fuelType       tax       mpg  \\\n",
       "0  Fiesta  0.000000    Automatic -0.116442   Petrol  0.039615 -0.089724   \n",
       "1   Focus  0.504918       Manual -0.544810   Petrol  0.039615 -0.089724   \n",
       "2   Focus  0.000000       Manual -0.315408   Petrol  0.039615 -0.089724   \n",
       "3  Fiesta  1.019864       Manual -0.445577   Petrol  0.000000 -1.439277   \n",
       "4  Fiesta  1.019864    Automatic -1.449320   Petrol  0.000000 -0.775513   \n",
       "\n",
       "   engineSize  price  \n",
       "0   -0.442551  12000  \n",
       "1   -0.442551  14000  \n",
       "2   -0.442551  13000  \n",
       "3    0.557449  17500  \n",
       "4   -0.442551  16500  "
      ]
     },
     "execution_count": 64,
     "metadata": {},
     "output_type": "execute_result"
    }
   ],
   "source": [
    "df.head()"
   ]
  },
  {
   "cell_type": "code",
   "execution_count": 65,
   "metadata": {},
   "outputs": [
    {
     "data": {
      "text/html": [
       "<div>\n",
       "<style scoped>\n",
       "    .dataframe tbody tr th:only-of-type {\n",
       "        vertical-align: middle;\n",
       "    }\n",
       "\n",
       "    .dataframe tbody tr th {\n",
       "        vertical-align: top;\n",
       "    }\n",
       "\n",
       "    .dataframe thead th {\n",
       "        text-align: right;\n",
       "    }\n",
       "</style>\n",
       "<table border=\"1\" class=\"dataframe\">\n",
       "  <thead>\n",
       "    <tr style=\"text-align: right;\">\n",
       "      <th></th>\n",
       "      <th>model</th>\n",
       "      <th>transmission</th>\n",
       "      <th>fuelType</th>\n",
       "      <th>year</th>\n",
       "      <th>mileage</th>\n",
       "      <th>tax</th>\n",
       "      <th>mpg</th>\n",
       "      <th>engineSize</th>\n",
       "      <th>price</th>\n",
       "    </tr>\n",
       "  </thead>\n",
       "  <tbody>\n",
       "    <tr>\n",
       "      <th>0</th>\n",
       "      <td>Fiesta</td>\n",
       "      <td>Automatic</td>\n",
       "      <td>Petrol</td>\n",
       "      <td>0.000000</td>\n",
       "      <td>-0.116442</td>\n",
       "      <td>0.039615</td>\n",
       "      <td>-0.089724</td>\n",
       "      <td>-0.442551</td>\n",
       "      <td>12000</td>\n",
       "    </tr>\n",
       "    <tr>\n",
       "      <th>1</th>\n",
       "      <td>Focus</td>\n",
       "      <td>Manual</td>\n",
       "      <td>Petrol</td>\n",
       "      <td>0.504918</td>\n",
       "      <td>-0.544810</td>\n",
       "      <td>0.039615</td>\n",
       "      <td>-0.089724</td>\n",
       "      <td>-0.442551</td>\n",
       "      <td>14000</td>\n",
       "    </tr>\n",
       "    <tr>\n",
       "      <th>2</th>\n",
       "      <td>Focus</td>\n",
       "      <td>Manual</td>\n",
       "      <td>Petrol</td>\n",
       "      <td>0.000000</td>\n",
       "      <td>-0.315408</td>\n",
       "      <td>0.039615</td>\n",
       "      <td>-0.089724</td>\n",
       "      <td>-0.442551</td>\n",
       "      <td>13000</td>\n",
       "    </tr>\n",
       "    <tr>\n",
       "      <th>3</th>\n",
       "      <td>Fiesta</td>\n",
       "      <td>Manual</td>\n",
       "      <td>Petrol</td>\n",
       "      <td>1.019864</td>\n",
       "      <td>-0.445577</td>\n",
       "      <td>0.000000</td>\n",
       "      <td>-1.439277</td>\n",
       "      <td>0.557449</td>\n",
       "      <td>17500</td>\n",
       "    </tr>\n",
       "    <tr>\n",
       "      <th>4</th>\n",
       "      <td>Fiesta</td>\n",
       "      <td>Automatic</td>\n",
       "      <td>Petrol</td>\n",
       "      <td>1.019864</td>\n",
       "      <td>-1.449320</td>\n",
       "      <td>0.000000</td>\n",
       "      <td>-0.775513</td>\n",
       "      <td>-0.442551</td>\n",
       "      <td>16500</td>\n",
       "    </tr>\n",
       "  </tbody>\n",
       "</table>\n",
       "</div>"
      ],
      "text/plain": [
       "    model transmission fuelType      year   mileage       tax       mpg  \\\n",
       "0  Fiesta    Automatic   Petrol  0.000000 -0.116442  0.039615 -0.089724   \n",
       "1   Focus       Manual   Petrol  0.504918 -0.544810  0.039615 -0.089724   \n",
       "2   Focus       Manual   Petrol  0.000000 -0.315408  0.039615 -0.089724   \n",
       "3  Fiesta       Manual   Petrol  1.019864 -0.445577  0.000000 -1.439277   \n",
       "4  Fiesta    Automatic   Petrol  1.019864 -1.449320  0.000000 -0.775513   \n",
       "\n",
       "   engineSize  price  \n",
       "0   -0.442551  12000  \n",
       "1   -0.442551  14000  \n",
       "2   -0.442551  13000  \n",
       "3    0.557449  17500  \n",
       "4   -0.442551  16500  "
      ]
     },
     "execution_count": 65,
     "metadata": {},
     "output_type": "execute_result"
    }
   ],
   "source": [
    "df.insert(1, 'transmission', df.pop('transmission'))\n",
    "df.insert(2, 'fuelType', df.pop('fuelType'))\n",
    "df.head()"
   ]
  },
  {
   "cell_type": "code",
   "execution_count": 66,
   "metadata": {},
   "outputs": [
    {
     "name": "stdout",
     "output_type": "stream",
     "text": [
      "Model Mapping : {0: 'B-MAX', 1: 'C-MAX', 2: 'EcoSport', 3: 'Edge', 4: 'Escort', 5: 'Fiesta', 6: 'Focus', 7: 'Fusion', 8: 'Galaxy', 9: 'Grand C-MAX', 10: 'Grand Tourneo Connect', 11: 'KA', 12: 'Ka+', 13: 'Kuga', 14: 'Mondeo', 15: 'Mustang', 16: 'Puma', 17: 'Ranger', 18: 'S-MAX', 19: 'Streetka', 20: 'Tourneo Connect', 21: 'Tourneo Custom', 22: 'Transit Tourneo'}\n",
      "Transmission Mapping : {0: 'Automatic', 1: 'Manual', 2: 'Semi-Auto'}\n",
      "Fueltype Mapping : {0: 'Diesel', 1: 'Electric', 2: 'Hybrid', 3: 'Petrol'}\n"
     ]
    }
   ],
   "source": [
    "from sklearn.preprocessing import LabelEncoder\n",
    "label_encoder = LabelEncoder()\n",
    "\n",
    "for column in categorical_columns:\n",
    "    df[column] = label_encoder.fit_transform(df[column])\n",
    "    mapping = {index: label for index, label in enumerate(label_encoder.classes_)}\n",
    "    print(column.capitalize(), 'Mapping :', mapping)"
   ]
  },
  {
   "cell_type": "code",
   "execution_count": 67,
   "metadata": {},
   "outputs": [
    {
     "data": {
      "text/html": [
       "<div>\n",
       "<style scoped>\n",
       "    .dataframe tbody tr th:only-of-type {\n",
       "        vertical-align: middle;\n",
       "    }\n",
       "\n",
       "    .dataframe tbody tr th {\n",
       "        vertical-align: top;\n",
       "    }\n",
       "\n",
       "    .dataframe thead th {\n",
       "        text-align: right;\n",
       "    }\n",
       "</style>\n",
       "<table border=\"1\" class=\"dataframe\">\n",
       "  <thead>\n",
       "    <tr style=\"text-align: right;\">\n",
       "      <th></th>\n",
       "      <th>model</th>\n",
       "      <th>transmission</th>\n",
       "      <th>fuelType</th>\n",
       "      <th>year</th>\n",
       "      <th>mileage</th>\n",
       "      <th>tax</th>\n",
       "      <th>mpg</th>\n",
       "      <th>engineSize</th>\n",
       "      <th>price</th>\n",
       "    </tr>\n",
       "  </thead>\n",
       "  <tbody>\n",
       "    <tr>\n",
       "      <th>0</th>\n",
       "      <td>5</td>\n",
       "      <td>0</td>\n",
       "      <td>3</td>\n",
       "      <td>0.000000</td>\n",
       "      <td>-0.116442</td>\n",
       "      <td>0.039615</td>\n",
       "      <td>-0.089724</td>\n",
       "      <td>-0.442551</td>\n",
       "      <td>12000</td>\n",
       "    </tr>\n",
       "    <tr>\n",
       "      <th>1</th>\n",
       "      <td>6</td>\n",
       "      <td>1</td>\n",
       "      <td>3</td>\n",
       "      <td>0.504918</td>\n",
       "      <td>-0.544810</td>\n",
       "      <td>0.039615</td>\n",
       "      <td>-0.089724</td>\n",
       "      <td>-0.442551</td>\n",
       "      <td>14000</td>\n",
       "    </tr>\n",
       "    <tr>\n",
       "      <th>2</th>\n",
       "      <td>6</td>\n",
       "      <td>1</td>\n",
       "      <td>3</td>\n",
       "      <td>0.000000</td>\n",
       "      <td>-0.315408</td>\n",
       "      <td>0.039615</td>\n",
       "      <td>-0.089724</td>\n",
       "      <td>-0.442551</td>\n",
       "      <td>13000</td>\n",
       "    </tr>\n",
       "    <tr>\n",
       "      <th>3</th>\n",
       "      <td>5</td>\n",
       "      <td>1</td>\n",
       "      <td>3</td>\n",
       "      <td>1.019864</td>\n",
       "      <td>-0.445577</td>\n",
       "      <td>0.000000</td>\n",
       "      <td>-1.439277</td>\n",
       "      <td>0.557449</td>\n",
       "      <td>17500</td>\n",
       "    </tr>\n",
       "    <tr>\n",
       "      <th>4</th>\n",
       "      <td>5</td>\n",
       "      <td>0</td>\n",
       "      <td>3</td>\n",
       "      <td>1.019864</td>\n",
       "      <td>-1.449320</td>\n",
       "      <td>0.000000</td>\n",
       "      <td>-0.775513</td>\n",
       "      <td>-0.442551</td>\n",
       "      <td>16500</td>\n",
       "    </tr>\n",
       "  </tbody>\n",
       "</table>\n",
       "</div>"
      ],
      "text/plain": [
       "   model  transmission  fuelType      year   mileage       tax       mpg  \\\n",
       "0      5             0         3  0.000000 -0.116442  0.039615 -0.089724   \n",
       "1      6             1         3  0.504918 -0.544810  0.039615 -0.089724   \n",
       "2      6             1         3  0.000000 -0.315408  0.039615 -0.089724   \n",
       "3      5             1         3  1.019864 -0.445577  0.000000 -1.439277   \n",
       "4      5             0         3  1.019864 -1.449320  0.000000 -0.775513   \n",
       "\n",
       "   engineSize  price  \n",
       "0   -0.442551  12000  \n",
       "1   -0.442551  14000  \n",
       "2   -0.442551  13000  \n",
       "3    0.557449  17500  \n",
       "4   -0.442551  16500  "
      ]
     },
     "execution_count": 67,
     "metadata": {},
     "output_type": "execute_result"
    }
   ],
   "source": [
    "df.head()"
   ]
  },
  {
   "cell_type": "code",
   "execution_count": 68,
   "metadata": {},
   "outputs": [],
   "source": [
    "from sklearn.model_selection import train_test_split\n",
    "from sklearn.metrics import r2_score, mean_absolute_error, mean_squared_error\n",
    "\n",
    "X = df.iloc[:, :8]\n",
    "Y = df.iloc[:, 8]\n",
    "X_train, X_test, Y_train, Y_test = train_test_split(X, Y, test_size=0.33, random_state=101)"
   ]
  },
  {
   "cell_type": "code",
   "execution_count": 69,
   "metadata": {},
   "outputs": [
    {
     "name": "stdout",
     "output_type": "stream",
     "text": [
      "-- Trained Data --\n",
      "R2-Score Accuracy : 0.9895306561941635\n",
      "Mean Absolute Error : 326.5636539888254\n",
      "Mean Squared Error : 233073.12721679718\n",
      "Root Mean Squared Error : 482.7764774891142\n",
      "\n",
      "-- Test Data --\n",
      "R2-Score Accuracy : 0.9253666476514153\n",
      "Mean Absolute Error : 895.8891335077518\n",
      "Mean Squared Error : 1710494.7346163203\n",
      "Root Mean Squared Error : 1307.858835890296\n"
     ]
    }
   ],
   "source": [
    "from sklearn.ensemble import RandomForestRegressor\n",
    "\n",
    "rfr = RandomForestRegressor(random_state=101)\n",
    "rfr.fit(X_train, Y_train)\n",
    "\n",
    "Y_pred_train = rfr.predict(X_train)\n",
    "Y_pred_test = rfr.predict(X_test)\n",
    "\n",
    "print('-- Trained Data --')\n",
    "print('R2-Score Accuracy :', r2_score(Y_train, Y_pred_train))\n",
    "print('Mean Absolute Error :', mean_absolute_error(Y_train, Y_pred_train))\n",
    "print('Mean Squared Error :', mean_squared_error(Y_train, Y_pred_train))\n",
    "print('Root Mean Squared Error :', np.sqrt(mean_squared_error(Y_train, Y_pred_train)))\n",
    "\n",
    "print('\\n-- Test Data --')\n",
    "print('R2-Score Accuracy :', r2_score(Y_test, Y_pred_test))\n",
    "print('Mean Absolute Error :', mean_absolute_error(Y_test, Y_pred_test))\n",
    "print('Mean Squared Error :', mean_squared_error(Y_test, Y_pred_test))\n",
    "print('Root Mean Squared Error :', np.sqrt(mean_squared_error(Y_test, Y_pred_test)))"
   ]
  },
  {
   "cell_type": "code",
   "execution_count": 70,
   "metadata": {},
   "outputs": [
    {
     "name": "stdout",
     "output_type": "stream",
     "text": [
      "-- Trained Data --\n",
      "R2-Score Accuracy : 0.9676076548542122\n",
      "Mean Absolute Error : 629.0569718891653\n",
      "Mean Squared Error : 721132.6059237559\n",
      "Root Mean Squared Error : 849.1952696075008\n",
      "\n",
      "-- Test Data --\n",
      "R2-Score Accuracy : 0.9327792920784357\n",
      "Mean Absolute Error : 837.7987380083264\n",
      "Mean Squared Error : 1540607.025395098\n",
      "Root Mean Squared Error : 1241.2119180039715\n"
     ]
    }
   ],
   "source": [
    "from xgboost import XGBRegressor\n",
    "\n",
    "xgbr = XGBRegressor(random_state=101)\n",
    "xgbr.fit(X_train, Y_train)\n",
    "\n",
    "Y_pred_train = xgbr.predict(X_train)\n",
    "Y_pred_test = xgbr.predict(X_test)\n",
    "\n",
    "print('-- Trained Data --')\n",
    "print('R2-Score Accuracy :', r2_score(Y_train, Y_pred_train))\n",
    "print('Mean Absolute Error :', mean_absolute_error(Y_train, Y_pred_train))\n",
    "print('Mean Squared Error :', mean_squared_error(Y_train, Y_pred_train))\n",
    "print('Root Mean Squared Error :', np.sqrt(mean_squared_error(Y_train, Y_pred_train)))\n",
    "\n",
    "print('\\n-- Test Data --')\n",
    "print('R2-Score Accuracy :', r2_score(Y_test, Y_pred_test))\n",
    "print('Mean Absolute Error :', mean_absolute_error(Y_test, Y_pred_test))\n",
    "print('Mean Squared Error :', mean_squared_error(Y_test, Y_pred_test))\n",
    "print('Root Mean Squared Error :', np.sqrt(mean_squared_error(Y_test, Y_pred_test)))"
   ]
  },
  {
   "cell_type": "code",
   "execution_count": 71,
   "metadata": {},
   "outputs": [
    {
     "name": "stdout",
     "output_type": "stream",
     "text": [
      "-- Trained Data --\n",
      "R2-Score Accuracy : 0.8815901529849965\n",
      "Mean Absolute Error : 1228.1266444251319\n",
      "Mean Squared Error : 2636091.98903792\n",
      "Root Mean Squared Error : 1623.6046283002274\n",
      "\n",
      "-- Test Data --\n",
      "R2-Score Accuracy : 0.8777993610797161\n",
      "Mean Absolute Error : 1234.3162417052306\n",
      "Mean Squared Error : 2800672.123953704\n",
      "Root Mean Squared Error : 1673.5208764618694\n"
     ]
    }
   ],
   "source": [
    "from xgboost import XGBRFRegressor\n",
    "\n",
    "xgbrf = XGBRFRegressor(random_state=101)\n",
    "xgbrf.fit(X_train, Y_train)\n",
    "\n",
    "Y_pred_train = xgbrf.predict(X_train)\n",
    "Y_pred_test = xgbrf.predict(X_test)\n",
    "\n",
    "print('-- Trained Data --')\n",
    "print('R2-Score Accuracy :', r2_score(Y_train, Y_pred_train))\n",
    "print('Mean Absolute Error :', mean_absolute_error(Y_train, Y_pred_train))\n",
    "print('Mean Squared Error :', mean_squared_error(Y_train, Y_pred_train))\n",
    "print('Root Mean Squared Error :', np.sqrt(mean_squared_error(Y_train, Y_pred_train)))\n",
    "\n",
    "print('\\n-- Test Data --')\n",
    "print('R2-Score Accuracy :', r2_score(Y_test, Y_pred_test))\n",
    "print('Mean Absolute Error :', mean_absolute_error(Y_test, Y_pred_test))\n",
    "print('Mean Squared Error :', mean_squared_error(Y_test, Y_pred_test))\n",
    "print('Root Mean Squared Error :', np.sqrt(mean_squared_error(Y_test, Y_pred_test)))"
   ]
  },
  {
   "cell_type": "code",
   "execution_count": 72,
   "metadata": {},
   "outputs": [
    {
     "name": "stdout",
     "output_type": "stream",
     "text": [
      "-- Trained Data --\n",
      "R2-Score Accuracy : 0.9206133384552404\n",
      "Mean Absolute Error : 953.4291572970144\n",
      "Mean Squared Error : 1767340.7052716604\n",
      "Root Mean Squared Error : 1329.4136697325105\n",
      "\n",
      "-- Test Data --\n",
      "R2-Score Accuracy : 0.9109094079613915\n",
      "Mean Absolute Error : 992.4141938896715\n",
      "Mean Squared Error : 2041834.9677519265\n",
      "Root Mean Squared Error : 1428.9279085216044\n"
     ]
    }
   ],
   "source": [
    "from sklearn.ensemble import GradientBoostingRegressor\n",
    "\n",
    "gbr = GradientBoostingRegressor(random_state=101)\n",
    "gbr.fit(X_train, Y_train)\n",
    "\n",
    "Y_pred_train = gbr.predict(X_train)\n",
    "Y_pred_test = gbr.predict(X_test)\n",
    "\n",
    "print('-- Trained Data --')\n",
    "print('R2-Score Accuracy :', r2_score(Y_train, Y_pred_train))\n",
    "print('Mean Absolute Error :', mean_absolute_error(Y_train, Y_pred_train))\n",
    "print('Mean Squared Error :', mean_squared_error(Y_train, Y_pred_train))\n",
    "print('Root Mean Squared Error :', np.sqrt(mean_squared_error(Y_train, Y_pred_train)))\n",
    "\n",
    "print('\\n-- Test Data --')\n",
    "print('R2-Score Accuracy :', r2_score(Y_test, Y_pred_test))\n",
    "print('Mean Absolute Error :', mean_absolute_error(Y_test, Y_pred_test))\n",
    "print('Mean Squared Error :', mean_squared_error(Y_test, Y_pred_test))\n",
    "print('Root Mean Squared Error :', np.sqrt(mean_squared_error(Y_test, Y_pred_test)))"
   ]
  },
  {
   "cell_type": "code",
   "execution_count": 73,
   "metadata": {},
   "outputs": [
    {
     "name": "stdout",
     "output_type": "stream",
     "text": [
      "-- Trained Data --\n",
      "R2-Score Accuracy : 0.9809477202486759\n",
      "Mean Absolute Error : 479.15506691241444\n",
      "Mean Squared Error : 424150.21462709067\n",
      "Root Mean Squared Error : 651.2681587695583\n",
      "\n",
      "-- Test Data --\n",
      "R2-Score Accuracy : 0.9343058814765415\n",
      "Mean Absolute Error : 833.5001858807772\n",
      "Mean Squared Error : 1505619.676640013\n",
      "Root Mean Squared Error : 1227.036949989695\n"
     ]
    }
   ],
   "source": [
    "from sklearn.ensemble import VotingRegressor\n",
    "\n",
    "vr = VotingRegressor(estimators=[('rf', rfr), ('xgb', xgbr)], weights=[0.8, 1])\n",
    "vr.fit(X_train, Y_train)\n",
    "\n",
    "Y_pred_train = vr.predict(X_train)\n",
    "Y_pred_test = vr.predict(X_test)\n",
    "\n",
    "print('-- Trained Data --')\n",
    "print('R2-Score Accuracy :', r2_score(Y_train, Y_pred_train))\n",
    "print('Mean Absolute Error :', mean_absolute_error(Y_train, Y_pred_train))\n",
    "print('Mean Squared Error :', mean_squared_error(Y_train, Y_pred_train))\n",
    "print('Root Mean Squared Error :', np.sqrt(mean_squared_error(Y_train, Y_pred_train)))\n",
    "\n",
    "print('\\n-- Test Data --')\n",
    "print('R2-Score Accuracy :', r2_score(Y_test, Y_pred_test))\n",
    "print('Mean Absolute Error :', mean_absolute_error(Y_test, Y_pred_test))\n",
    "print('Mean Squared Error :', mean_squared_error(Y_test, Y_pred_test))\n",
    "print('Root Mean Squared Error :', np.sqrt(mean_squared_error(Y_test, Y_pred_test)))"
   ]
  },
  {
   "cell_type": "code",
   "execution_count": 74,
   "metadata": {},
   "outputs": [
    {
     "name": "stdout",
     "output_type": "stream",
     "text": [
      "Accuracy of the loaded model : 0.9343058814765415\n"
     ]
    }
   ],
   "source": [
    "import pickle\n",
    "\n",
    "with open('FordCarPrice_Predictor.pkl', 'wb') as file:\n",
    "    pickle.dump({'Model' : vr, 'Transformer' : pt, 'Scaler' : robust_scaler}, file)\n",
    "    \n",
    "with open('FordCarPrice_Predictor.pkl', 'rb') as file:\n",
    "    data = pickle.load(file)\n",
    "    loaded_model = data['Model']\n",
    "    \n",
    "print('Accuracy of the loaded model :', loaded_model.score(X_test, Y_test))"
   ]
  },
  {
   "cell_type": "code",
   "execution_count": null,
   "metadata": {},
   "outputs": [],
   "source": []
  }
 ],
 "metadata": {
  "kernelspec": {
   "display_name": "Python 3",
   "language": "python",
   "name": "python3"
  },
  "language_info": {
   "codemirror_mode": {
    "name": "ipython",
    "version": 3
   },
   "file_extension": ".py",
   "mimetype": "text/x-python",
   "name": "python",
   "nbconvert_exporter": "python",
   "pygments_lexer": "ipython3",
   "version": "3.10.5"
  }
 },
 "nbformat": 4,
 "nbformat_minor": 2
}
